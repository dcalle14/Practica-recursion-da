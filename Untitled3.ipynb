{
  "nbformat": 4,
  "nbformat_minor": 0,
  "metadata": {
    "colab": {
      "provenance": [],
      "authorship_tag": "ABX9TyNr2zGP9oXkl/UucMTvMjk3",
      "include_colab_link": true
    },
    "kernelspec": {
      "name": "python3",
      "display_name": "Python 3"
    },
    "language_info": {
      "name": "python"
    }
  },
  "cells": [
    {
      "cell_type": "markdown",
      "metadata": {
        "id": "view-in-github",
        "colab_type": "text"
      },
      "source": [
        "<a href=\"https://colab.research.google.com/github/dcalle14/Practica-recursion-da/blob/main/Untitled3.ipynb\" target=\"_parent\"><img src=\"https://colab.research.google.com/assets/colab-badge.svg\" alt=\"Open In Colab\"/></a>"
      ]
    },
    {
      "cell_type": "code",
      "source": [
        "def contar_peliculas_precio(lista, resultado=None, index=0):\n",
        "\n",
        "    if resultado is None:\n",
        "        resultado = {}\n",
        "\n",
        "    if index >= len(lista):\n",
        "\n",
        "        categorias = {contador: {\"cantidad\": datos[\"cantidad\"], \"precio_promedio\": datos[\"total\"] / datos[\"cantidad\"]}\n",
        "                      for contador, datos in resultado.items()}\n",
        "\n",
        "\n",
        "        if categorias:\n",
        "            categoria_mas_alta = max(categorias, key=lambda k: categorias[k][\"precio_promedio\"])\n",
        "            precio_promedio_mas_alto = categorias[categoria_mas_alta][\"precio_promedio\"]\n",
        "            categoria_mas_baja = min(categorias, key=lambda k: categorias[k][\"precio_promedio\"])\n",
        "            precio_promedio_mas_bajo = categorias[categoria_mas_baja][\"precio_promedio\"]\n",
        "\n",
        "            return f\"Categoría con precio promedio más alto: {categoria_mas_alta} (${precio_promedio_mas_alto:.2f})\\nCategoría con precio promedio más bajo: {categoria_mas_baja} (${precio_promedio_mas_bajo:.2f})\"\n",
        "        else:\n",
        "            return \"No hay categorias para analizar\"\n",
        "\n",
        "\n",
        "    pelicula = lista[index]\n",
        "    categoria = pelicula[\"categoria\"]\n",
        "\n",
        "    if categoria not in resultado:\n",
        "        resultado[categoria] = {\"cantidad\": 0, \"total\": 0}\n",
        "\n",
        "    resultado[categoria][\"cantidad\"] += 1\n",
        "    resultado[categoria][\"total\"] += pelicula[\"precio\"]\n",
        "\n",
        "    return contar_peliculas_precio(lista, resultado, index + 1)\n",
        "\n",
        "peliculas = [\n",
        "    {\"titulo\": \"Avengers\", \"categoria\": \"Acción\", \"precio\": 10},\n",
        "    {\"titulo\": \"Batman\", \"categoria\": \"Acción\", \"precio\": 12},\n",
        "    {\"titulo\": \"Son como niños\", \"categoria\": \"Humor\", \"precio\": 8},\n",
        "]\n",
        "\n",
        "print(contar_peliculas_precio(peliculas))"
      ],
      "metadata": {
        "id": "6imJbldBRBXi"
      },
      "execution_count": null,
      "outputs": []
    },
    {
      "cell_type": "markdown",
      "source": [
        "punto 1\n"
      ],
      "metadata": {
        "id": "VSsbpnJURYQ7"
      }
    },
    {
      "cell_type": "code",
      "source": [
        "def buscar_pelicula(lista, titulo, inicio=0, fin=None, index=0):\n",
        "\n",
        "    if fin is None:\n",
        "        fin = len(lista) - 1\n",
        "    if inicio > fin:\n",
        "        return None\n",
        "\n",
        "    medio = (inicio + fin) // 2\n",
        "\n",
        "    if lista[medio][\"titulo\"] == titulo:\n",
        "        return lista[medio]\n",
        "    elif lista[medio][\"titulo\"] < titulo:\n",
        "        return buscar_pelicula(lista, titulo, medio + 1, fin)\n",
        "    else:\n",
        "        return buscar_pelicula(lista, titulo, inicio, medio - 1)\n",
        "\n",
        "\n",
        "peliculas = [\n",
        "    {\"titulo\": \"Avengers\", \"categoria\": \"Acción\", \"precio\": 10},\n",
        "    {\"titulo\": \"Batman\", \"categoria\": \"Acción\", \"precio\": 12},\n",
        "    {\"titulo\": \"Son como niños\", \"categoria\": \"Humor\", \"precio\": 8},\n",
        "]\n",
        "\n",
        "print(buscar_pelicula(peliculas, \"Batman\"))"
      ],
      "metadata": {
        "id": "9tBkdiZ0RWZK"
      },
      "execution_count": null,
      "outputs": []
    },
    {
      "cell_type": "markdown",
      "source": [
        "punto 2\n"
      ],
      "metadata": {
        "id": "poxpFHWORbTa"
      }
    }
  ]
}